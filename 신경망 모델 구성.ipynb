{
 "cells": [
  {
   "cell_type": "markdown",
   "id": "769d84e0",
   "metadata": {},
   "source": [
    "신경망은 layer과 module로 구성\n",
    "\n",
    "torch.nn - 신경망을 구성하는데 필요한 모든 구성 요소를 제공"
   ]
  },
  {
   "cell_type": "code",
   "execution_count": 1,
   "id": "0aa3661c",
   "metadata": {},
   "outputs": [],
   "source": [
    "# FashionMNIST 이미지 분류 신경망 구성\n",
    "\n",
    "import os\n",
    "import torch\n",
    "from torch import nn\n",
    "from torch.utils.data import DataLoader\n",
    "from torchvision import datasets, transforms"
   ]
  },
  {
   "cell_type": "code",
   "execution_count": 2,
   "id": "4e829020",
   "metadata": {},
   "outputs": [
    {
     "name": "stdout",
     "output_type": "stream",
     "text": [
      "Using cpu device\n"
     ]
    }
   ],
   "source": [
    "device = \"cuda\" if torch.cuda.is_available() else \"cpu\"\n",
    "print(f\"Using {device} device\")"
   ]
  },
  {
   "cell_type": "code",
   "execution_count": 3,
   "id": "d5d33f43",
   "metadata": {},
   "outputs": [],
   "source": [
    "# define Class\n",
    "\n",
    "class NeuralNetwork(nn.Module):\n",
    "    def __init__(self): # 신경망 계층 초기화\n",
    "        super(NeuralNetwork, self).__init__()\n",
    "        self.flatten = nn.Flatten()\n",
    "        self.linear_relu_stack = nn.Sequential(\n",
    "            nn.Linear(28*28, 512),\n",
    "            nn.ReLU(),\n",
    "            nn.Linear(512, 512),\n",
    "            nn.ReLU(),\n",
    "            nn.Linear(512, 10),\n",
    "        )\n",
    "\n",
    "    def forward(self, x): # forward 연산\n",
    "        x = self.flatten(x)\n",
    "        logits = self.linear_relu_stack(x)\n",
    "        return logits"
   ]
  },
  {
   "cell_type": "code",
   "execution_count": 4,
   "id": "a23670c5",
   "metadata": {},
   "outputs": [
    {
     "name": "stdout",
     "output_type": "stream",
     "text": [
      "NeuralNetwork(\n",
      "  (flatten): Flatten(start_dim=1, end_dim=-1)\n",
      "  (linear_relu_stack): Sequential(\n",
      "    (0): Linear(in_features=784, out_features=512, bias=True)\n",
      "    (1): ReLU()\n",
      "    (2): Linear(in_features=512, out_features=512, bias=True)\n",
      "    (3): ReLU()\n",
      "    (4): Linear(in_features=512, out_features=10, bias=True)\n",
      "  )\n",
      ")\n"
     ]
    }
   ],
   "source": [
    "# 인스턴스 생성\n",
    "\n",
    "model = NeuralNetwork().to(device)\n",
    "print(model)"
   ]
  },
  {
   "cell_type": "code",
   "execution_count": 5,
   "id": "15fedcd8",
   "metadata": {},
   "outputs": [
    {
     "name": "stdout",
     "output_type": "stream",
     "text": [
      "Predicted class: tensor([8])\n"
     ]
    }
   ],
   "source": [
    "X = torch.rand(1, 28, 28, device=device)\n",
    "logits = model(X)\n",
    "pred_probab = nn.Softmax(dim=1)(logits)\n",
    "y_pred = pred_probab.argmax(1)\n",
    "print(f\"Predicted class: {y_pred}\")"
   ]
  },
  {
   "cell_type": "code",
   "execution_count": 7,
   "id": "4b5bc35b",
   "metadata": {},
   "outputs": [
    {
     "name": "stdout",
     "output_type": "stream",
     "text": [
      "torch.Size([3, 28, 28])\n"
     ]
    }
   ],
   "source": [
    "# Layer\n",
    "\n",
    "input_image = torch.rand(3, 28, 28)\n",
    "print(input_image.size())"
   ]
  },
  {
   "cell_type": "code",
   "execution_count": 9,
   "id": "fe7c1652",
   "metadata": {},
   "outputs": [
    {
     "name": "stdout",
     "output_type": "stream",
     "text": [
      "torch.Size([3, 784])\n"
     ]
    }
   ],
   "source": [
    "# 28x28의 2D이미지를 784 픽셀값을 갖는 연속 배열로 변환\n",
    "\n",
    "flatten = nn.Flatten()\n",
    "flat_image = flatten(input_image)\n",
    "print(flat_image.size())"
   ]
  },
  {
   "cell_type": "code",
   "execution_count": 10,
   "id": "e2702ca6",
   "metadata": {},
   "outputs": [
    {
     "name": "stdout",
     "output_type": "stream",
     "text": [
      "torch.Size([3, 20])\n"
     ]
    }
   ],
   "source": [
    "# 선형 변환\n",
    "\n",
    "layer1 = nn.Linear(in_features=28*28, out_features=20)\n",
    "hidden1 = layer1(flat_image)\n",
    "print(hidden1.size())"
   ]
  },
  {
   "cell_type": "code",
   "execution_count": 11,
   "id": "debe74d1",
   "metadata": {},
   "outputs": [
    {
     "name": "stdout",
     "output_type": "stream",
     "text": [
      "Before ReLU: tensor([[-0.1056,  0.2080,  0.0040, -0.6640, -0.2360,  1.0676, -0.4269,  0.5721,\n",
      "          0.1048,  0.3157, -0.6253,  0.1254,  0.2161, -0.0073, -0.3233,  0.1460,\n",
      "          0.0118,  0.3129, -0.0148, -0.1486],\n",
      "        [ 0.0859,  0.0677, -0.0306, -0.4227, -0.4158,  1.1362, -0.2528, -0.1066,\n",
      "          0.1357,  0.3376, -0.7674, -0.0821, -0.0613,  0.1660, -0.2020,  0.0948,\n",
      "          0.2398,  0.2182, -0.1860, -0.2572],\n",
      "        [ 0.0039,  0.3405, -0.2087, -0.7660, -0.3993,  1.1604,  0.1000,  0.4489,\n",
      "          0.0557,  0.1234, -0.6647,  0.1982,  0.2854,  0.2351, -0.5877,  0.0472,\n",
      "          0.1259,  0.5086, -0.2439, -0.1145]], grad_fn=<AddmmBackward0>)\n",
      "\n",
      "\n",
      "After ReLU: tensor([[0.0000, 0.2080, 0.0040, 0.0000, 0.0000, 1.0676, 0.0000, 0.5721, 0.1048,\n",
      "         0.3157, 0.0000, 0.1254, 0.2161, 0.0000, 0.0000, 0.1460, 0.0118, 0.3129,\n",
      "         0.0000, 0.0000],\n",
      "        [0.0859, 0.0677, 0.0000, 0.0000, 0.0000, 1.1362, 0.0000, 0.0000, 0.1357,\n",
      "         0.3376, 0.0000, 0.0000, 0.0000, 0.1660, 0.0000, 0.0948, 0.2398, 0.2182,\n",
      "         0.0000, 0.0000],\n",
      "        [0.0039, 0.3405, 0.0000, 0.0000, 0.0000, 1.1604, 0.1000, 0.4489, 0.0557,\n",
      "         0.1234, 0.0000, 0.1982, 0.2854, 0.2351, 0.0000, 0.0472, 0.1259, 0.5086,\n",
      "         0.0000, 0.0000]], grad_fn=<ReluBackward0>)\n"
     ]
    }
   ],
   "source": [
    "# 비선형 근사 ReLU함수 적용\n",
    "\n",
    "print(f\"Before ReLU: {hidden1}\\n\\n\")\n",
    "hidden1 = nn.ReLU()(hidden1)\n",
    "print(f\"After ReLU: {hidden1}\")"
   ]
  },
  {
   "cell_type": "code",
   "execution_count": 12,
   "id": "15baf763",
   "metadata": {},
   "outputs": [],
   "source": [
    "# 정의된 순서로 모든 모듈들을 통해 전달\n",
    "\n",
    "seq_modules = nn.Sequential(\n",
    "    flatten, \n",
    "    layer1,\n",
    "    nn.ReLU(),\n",
    "    nn.Linear(20, 10)\n",
    ")\n",
    "imput_image = torch.rand(3, 28, 28)\n",
    "logits = seq_modules(input_image)"
   ]
  },
  {
   "cell_type": "code",
   "execution_count": 13,
   "id": "5d0e7740",
   "metadata": {},
   "outputs": [],
   "source": [
    "# 마지막 선형 계층은 Softmax모듈에 전달될 logits를 반환\n",
    "# logits는 모델의 각 분류에 대한 예측 확률을 나타내도록 [0, 1] 범위로 비례하여 scale\n",
    "\n",
    "softmax = nn.Softmax(dim = 1)\n",
    "pred_probab = softmax(logits)"
   ]
  },
  {
   "cell_type": "code",
   "execution_count": 14,
   "id": "8ccf3730",
   "metadata": {},
   "outputs": [
    {
     "name": "stdout",
     "output_type": "stream",
     "text": [
      "Model structure: NeuralNetwork(\n",
      "  (flatten): Flatten(start_dim=1, end_dim=-1)\n",
      "  (linear_relu_stack): Sequential(\n",
      "    (0): Linear(in_features=784, out_features=512, bias=True)\n",
      "    (1): ReLU()\n",
      "    (2): Linear(in_features=512, out_features=512, bias=True)\n",
      "    (3): ReLU()\n",
      "    (4): Linear(in_features=512, out_features=10, bias=True)\n",
      "  )\n",
      ")\n",
      "\n",
      "\n",
      "Layer: linear_relu_stack.0.weight | Size: torch.Size([512, 784]) | Values : tensor([[ 0.0309, -0.0078,  0.0058,  ..., -0.0057, -0.0297,  0.0272],\n",
      "        [-0.0261, -0.0254, -0.0139,  ..., -0.0165, -0.0292, -0.0203]],\n",
      "       grad_fn=<SliceBackward0>) \n",
      "\n",
      "Layer: linear_relu_stack.0.bias | Size: torch.Size([512]) | Values : tensor([-0.0117, -0.0040], grad_fn=<SliceBackward0>) \n",
      "\n",
      "Layer: linear_relu_stack.2.weight | Size: torch.Size([512, 512]) | Values : tensor([[ 0.0159,  0.0080, -0.0278,  ..., -0.0045,  0.0200, -0.0434],\n",
      "        [ 0.0259, -0.0320, -0.0083,  ..., -0.0203,  0.0099, -0.0336]],\n",
      "       grad_fn=<SliceBackward0>) \n",
      "\n",
      "Layer: linear_relu_stack.2.bias | Size: torch.Size([512]) | Values : tensor([0.0151, 0.0239], grad_fn=<SliceBackward0>) \n",
      "\n",
      "Layer: linear_relu_stack.4.weight | Size: torch.Size([10, 512]) | Values : tensor([[-0.0120, -0.0267,  0.0411,  ...,  0.0311,  0.0440, -0.0169],\n",
      "        [ 0.0333, -0.0093,  0.0217,  ..., -0.0309,  0.0174,  0.0384]],\n",
      "       grad_fn=<SliceBackward0>) \n",
      "\n",
      "Layer: linear_relu_stack.4.bias | Size: torch.Size([10]) | Values : tensor([-0.0163,  0.0190], grad_fn=<SliceBackward0>) \n",
      "\n"
     ]
    }
   ],
   "source": [
    "# parameterize\n",
    "\n",
    "print(f\"Model structure: {model}\\n\\n\")\n",
    "\n",
    "for name, param in model.named_parameters():\n",
    "    print(f\"Layer: {name} | Size: {param.size()} | Values : {param[:2]} \\n\")"
   ]
  },
  {
   "cell_type": "code",
   "execution_count": null,
   "id": "dffbec93",
   "metadata": {},
   "outputs": [],
   "source": []
  }
 ],
 "metadata": {
  "kernelspec": {
   "display_name": "Python 3 (ipykernel)",
   "language": "python",
   "name": "python3"
  },
  "language_info": {
   "codemirror_mode": {
    "name": "ipython",
    "version": 3
   },
   "file_extension": ".py",
   "mimetype": "text/x-python",
   "name": "python",
   "nbconvert_exporter": "python",
   "pygments_lexer": "ipython3",
   "version": "3.9.15"
  }
 },
 "nbformat": 4,
 "nbformat_minor": 5
}
