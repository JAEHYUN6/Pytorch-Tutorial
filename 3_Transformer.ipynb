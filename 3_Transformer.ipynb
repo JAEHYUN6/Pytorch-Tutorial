{
 "cells": [
  {
   "cell_type": "markdown",
   "id": "6457a441",
   "metadata": {},
   "source": [
    "transform을 통해 데이터를 조작하고 학습에 적합하게 만듦\n",
    "모든 TorchVision 데이터셋들은 변형 로직을 갖는 호출 가능한 객체를 받는 매개변수 두개를 변경하기 위한 transform 과 정답label을 변경하기 위한 target_transform을 가짐"
   ]
  },
  {
   "cell_type": "code",
   "execution_count": 1,
   "id": "69cb66ab",
   "metadata": {},
   "outputs": [],
   "source": [
    "import torch\n",
    "from torchvision import datasets\n",
    "from torchvision.transforms import ToTensor, Lambda\n",
    "\n",
    "ds = datasets.FashionMNIST(\n",
    "    root=\"data\",\n",
    "    train=True,\n",
    "    download=True,\n",
    "    transform=ToTensor(),\n",
    "    target_transform=Lambda(lambda y: torch.zeros(10, dtype=torch.float).scatter_(0, torch.tensor(y), value=1))\n",
    ")"
   ]
  },
  {
   "cell_type": "markdown",
   "id": "68f7f81f",
   "metadata": {},
   "source": [
    "# ToTensor()\n",
    "- PIL Image나 Numpy ndarray를 floatTensor로 변환\n",
    "- 이미지의 픽셀 크기 값을 [0., 1.]범위로 비례하여 조정(scale)"
   ]
  },
  {
   "cell_type": "code",
   "execution_count": 2,
   "id": "a974257e",
   "metadata": {},
   "outputs": [],
   "source": [
    "# lambda 함수를 적용\n",
    "# one-hot으로 부호화된 텐서로 바꾸는 함수를 정의\n",
    "# 크기 10짜리 zero tensor를 만들고, scatter_를 호출하여 정답 y에 해당하는 index에 1을 할당\n",
    "\n",
    "target_transform = Lambda(lambda y: torch.zeros(\n",
    "    10, dtype = torch.float).scatter(dim = 0, index = torch.tensor(y), value = 1))"
   ]
  },
  {
   "cell_type": "code",
   "execution_count": null,
   "id": "9e7bbccb",
   "metadata": {},
   "outputs": [],
   "source": []
  }
 ],
 "metadata": {
  "kernelspec": {
   "display_name": "Python 3 (ipykernel)",
   "language": "python",
   "name": "python3"
  },
  "language_info": {
   "codemirror_mode": {
    "name": "ipython",
    "version": 3
   },
   "file_extension": ".py",
   "mimetype": "text/x-python",
   "name": "python",
   "nbconvert_exporter": "python",
   "pygments_lexer": "ipython3",
   "version": "3.9.15"
  }
 },
 "nbformat": 4,
 "nbformat_minor": 5
}
